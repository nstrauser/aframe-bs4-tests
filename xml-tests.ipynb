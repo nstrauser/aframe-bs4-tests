{
 "cells": [
  {
   "cell_type": "code",
   "execution_count": 13,
   "metadata": {},
   "outputs": [
    {
     "ename": "AttributeError",
     "evalue": "'NoneType' object has no attribute 'append'",
     "output_type": "error",
     "traceback": [
      "\u001b[0;31m---------------------------------------------------------------------------\u001b[0m",
      "\u001b[0;31mAttributeError\u001b[0m                            Traceback (most recent call last)",
      "\u001b[0;32m<ipython-input-13-43917a323f5d>\u001b[0m in \u001b[0;36m<module>\u001b[0;34m\u001b[0m\n\u001b[1;32m     20\u001b[0m \u001b[0mfl\u001b[0m\u001b[0;34m.\u001b[0m\u001b[0mcamera\u001b[0m\u001b[0;34m.\u001b[0m\u001b[0mappend\u001b[0m\u001b[0;34m(\u001b[0m\u001b[0msoup\u001b[0m\u001b[0;34m.\u001b[0m\u001b[0mnew_tag\u001b[0m\u001b[0;34m(\u001b[0m\u001b[0;34m\"hres\"\u001b[0m\u001b[0;34m)\u001b[0m\u001b[0;34m)\u001b[0m\u001b[0;34m\u001b[0m\u001b[0;34m\u001b[0m\u001b[0m\n\u001b[1;32m     21\u001b[0m \u001b[0mfl\u001b[0m\u001b[0;34m.\u001b[0m\u001b[0mcamera\u001b[0m\u001b[0;34m.\u001b[0m\u001b[0mappend\u001b[0m\u001b[0;34m(\u001b[0m\u001b[0msoup\u001b[0m\u001b[0;34m.\u001b[0m\u001b[0mnew_tag\u001b[0m\u001b[0;34m(\u001b[0m\u001b[0;34m\"vres\"\u001b[0m\u001b[0;34m)\u001b[0m\u001b[0;34m)\u001b[0m\u001b[0;34m\u001b[0m\u001b[0;34m\u001b[0m\u001b[0m\n\u001b[0;32m---> 22\u001b[0;31m \u001b[0mfl\u001b[0m\u001b[0;34m.\u001b[0m\u001b[0msurround\u001b[0m\u001b[0;34m.\u001b[0m\u001b[0mappend\u001b[0m\u001b[0;34m(\u001b[0m\u001b[0msoup\u001b[0m\u001b[0;34m.\u001b[0m\u001b[0mnew_tag\u001b[0m\u001b[0;34m(\u001b[0m\u001b[0;34m'opacity'\u001b[0m\u001b[0;34m)\u001b[0m\u001b[0;34m)\u001b[0m\u001b[0;34m\u001b[0m\u001b[0;34m\u001b[0m\u001b[0m\n\u001b[0m\u001b[1;32m     23\u001b[0m \u001b[0mfl\u001b[0m\u001b[0;34m.\u001b[0m\u001b[0msurround\u001b[0m\u001b[0;34m.\u001b[0m\u001b[0mopacity\u001b[0m\u001b[0;34m.\u001b[0m\u001b[0mstring\u001b[0m \u001b[0;34m=\u001b[0m \u001b[0;34m'0'\u001b[0m\u001b[0;34m\u001b[0m\u001b[0;34m\u001b[0m\u001b[0m\n\u001b[1;32m     24\u001b[0m \u001b[0;34m\u001b[0m\u001b[0m\n",
      "\u001b[0;31mAttributeError\u001b[0m: 'NoneType' object has no attribute 'append'"
     ]
    }
   ],
   "source": [
    "from bs4 import BeautifulSoup as bs\n",
    "import click\n",
    "from datetime import datetime\n",
    "import os\n",
    "\n",
    "mini_test = ['ALEXA Mini', 'Open Gate 3.2K', 'ARRIRAW', '3424', '2202', '3424', '2202']\n",
    "sensor_w = mini_test[-4]\n",
    "sensor_h = mini_test[-3]\n",
    "rec_w = mini_test[-2] \n",
    "rec_h = mini_test[-1]\n",
    "fla_w = '3424'\n",
    "fla_h = '1433'\n",
    "px_offset = 0\n",
    "soup = bs(\"<framelines></framelines>\", 'xml')    \n",
    "soup.framelines.append(soup.new_tag(\"camera\"))\n",
    "fl = soup.framelines\n",
    "fl.camera.append(soup.new_tag(\"type\"))\n",
    "fl.camera.append(soup.new_tag(\"sensor\"))\n",
    "fl.camera.append(soup.new_tag(\"aspect\"))\n",
    "fl.camera.append(soup.new_tag(\"hres\"))\n",
    "fl.camera.append(soup.new_tag(\"vres\"))\n",
    "fl.surround.append(soup.new_tag('opacity'))\n",
    "fl.surround.opacity.string = '0'\n",
    "\n",
    "def get_l_r():\n",
    "    l_r = (((int(sensor_w) - int(fla_w)) / 2) + int(px_offset)) / int(sensor_w)\n",
    "    return l_r\n",
    "def alexa_mini_xml_test():\n",
    "    fl.camera.type.string = mini_test[0]\n",
    "    fl.camera.sensor.string = \"3.4K\"\n",
    "    if mini_test[0] == \"ALEXA Mini\":\n",
    "        fl.camera.aspect.string = '1.55'\n",
    "        fl.camera.hres.string = mini_test[-2]\n",
    "        fl.camera.vres.string = mini_test[-1]\n",
    "        print('Mini worked!')\n",
    "    else:\n",
    "        print('Mini did not work')\n",
    "def create_fla():\n",
    "        pass\n",
    "def create_xml():\n",
    "    _home = os.environ['HOME']\n",
    "    today = datetime.now().strftime('_%m_%d_%y')\n",
    "    with open(os.path.join(_home,'Desktop',f'text_{today}.xml'), 'w+') as f:\n",
    "        f.write(soup.prettify())\n",
    "        f.close()"
   ]
  },
  {
   "cell_type": "code",
   "execution_count": 11,
   "metadata": {},
   "outputs": [
    {
     "name": "stdout",
     "output_type": "stream",
     "text": [
      "Mini worked!\n"
     ]
    },
    {
     "data": {
      "text/plain": [
       "(None, None)"
      ]
     },
     "execution_count": 11,
     "metadata": {},
     "output_type": "execute_result"
    }
   ],
   "source": [
    "alexa_mini_xml_test(), create_xml()"
   ]
  },
  {
   "cell_type": "code",
   "execution_count": null,
   "metadata": {},
   "outputs": [],
   "source": []
  }
 ],
 "metadata": {
  "kernelspec": {
   "display_name": "Python 3",
   "language": "python",
   "name": "python3"
  },
  "language_info": {
   "codemirror_mode": {
    "name": "ipython",
    "version": 3
   },
   "file_extension": ".py",
   "mimetype": "text/x-python",
   "name": "python",
   "nbconvert_exporter": "python",
   "pygments_lexer": "ipython3",
   "version": "3.7.3"
  }
 },
 "nbformat": 4,
 "nbformat_minor": 2
}
