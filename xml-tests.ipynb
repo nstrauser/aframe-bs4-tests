{
 "cells": [
  {
   "cell_type": "code",
   "execution_count": 1,
   "metadata": {},
   "outputs": [
    {
     "ename": "NameError",
     "evalue": "name 'mini_test' is not defined",
     "output_type": "error",
     "traceback": [
      "\u001b[0;31m---------------------------------------------------------------------------\u001b[0m",
      "\u001b[0;31mNameError\u001b[0m                                 Traceback (most recent call last)",
      "\u001b[0;32m<ipython-input-1-5a8068be0aed>\u001b[0m in \u001b[0;36m<module>\u001b[0;34m\u001b[0m\n\u001b[1;32m      5\u001b[0m \u001b[0;32mfrom\u001b[0m \u001b[0mcamerasettings\u001b[0m \u001b[0;32mimport\u001b[0m \u001b[0;34m*\u001b[0m\u001b[0;34m\u001b[0m\u001b[0;34m\u001b[0m\u001b[0m\n\u001b[1;32m      6\u001b[0m \u001b[0;31m# -------------------------- CREATE XML ----->>>\u001b[0m\u001b[0;34m\u001b[0m\u001b[0;34m\u001b[0m\u001b[0;34m\u001b[0m\u001b[0m\n\u001b[0;32m----> 7\u001b[0;31m \u001b[0msensor_w\u001b[0m \u001b[0;34m=\u001b[0m \u001b[0mmini_test\u001b[0m\u001b[0;34m[\u001b[0m\u001b[0;34m-\u001b[0m\u001b[0;36m4\u001b[0m\u001b[0;34m]\u001b[0m\u001b[0;34m\u001b[0m\u001b[0;34m\u001b[0m\u001b[0m\n\u001b[0m\u001b[1;32m      8\u001b[0m \u001b[0msensor_h\u001b[0m \u001b[0;34m=\u001b[0m \u001b[0mmini_test\u001b[0m\u001b[0;34m[\u001b[0m\u001b[0;34m-\u001b[0m\u001b[0;36m3\u001b[0m\u001b[0;34m]\u001b[0m\u001b[0;34m\u001b[0m\u001b[0;34m\u001b[0m\u001b[0m\n\u001b[1;32m      9\u001b[0m \u001b[0mrec_w\u001b[0m \u001b[0;34m=\u001b[0m \u001b[0mmini_test\u001b[0m\u001b[0;34m[\u001b[0m\u001b[0;34m-\u001b[0m\u001b[0;36m2\u001b[0m\u001b[0;34m]\u001b[0m\u001b[0;34m\u001b[0m\u001b[0;34m\u001b[0m\u001b[0m\n",
      "\u001b[0;31mNameError\u001b[0m: name 'mini_test' is not defined"
     ]
    }
   ],
   "source": [
    "from bs4 import BeautifulSoup as bs\n",
    "from bs4 import Comment\n",
    "import os\n",
    "from camerasettings import *\n",
    "# ---->>> FRAMELINE STYLE ---->>>\n",
    "\n",
    "fla_ratios = ['1.33:1','1.66:1','1.78:1','1.85:1',\n",
    "             '2.00:1','2.39:1','1:1','Custom']\n",
    "fla_ratio_index = fla_ratios[1]\n",
    "fla_custom_ratio = ''\n",
    "fla_scaling = ''\n",
    "center_marker = ['Cross','Small Cross','Dot','Small Dot']\n",
    "fla_style = ['Full Box','Top/Bottom','Left/Right',\n",
    "             'Corner','Tick Width','Tick Height']\n",
    "fla_style_len = ['Regular', 'Short', 'Medium', 'Long']\n",
    "fla_shading = ['25%','50%','75%','100%']\n",
    "fla_line_w = ['2px','4px','6px','8px','10px']\n",
    "\n",
    "# ------ FUNCTIONS FOR CALCULATING RATIOS, OFFSET, PIXEL->MM, etc ------>>>\n",
    "\n",
    "def calc_fl_size(rec_w, rec_h, fla_ratio_index):\n",
    "    \n",
    "    if fla_ratio_index == \"Custom\":\n",
    "        pass\n",
    "    \n",
    "    rec_ratio  = int(rec_w) / int(rec_h)    \n",
    "    fla_split  = fla_ratio_index(':')\n",
    "    _fla_ratio = int(fla_split[0])\n",
    "    \n",
    "    if _fla_ratio < 1.78 or rec_ratio < 1.7777777777777777: # FIT HEIGHT\n",
    "        new_w = round(rec_h * _fla_ratio)\n",
    "        fla_ratio = [str(new_w), str(rec_h)]\n",
    "        return fla_ratio\n",
    "        \n",
    "    elif _fla_ratio >= 1.78 or rec_ratio >= 1.7777777777777777: # FIT WIDTH\n",
    "        new_h = round(_fla_ratio / rec_w)\n",
    "        fla_ratio = [str(rec_w), str(new_h)]\n",
    "        return fla_ratio\n",
    "    \n",
    "def fla_lrud(rec_w, rec_h, fla_w, \n",
    "             fla_h, offset_x, offset_y\n",
    "            ):\n",
    "    fla = calc_fl_size()\n",
    "    fla_w = int(fla[0])\n",
    "    fla_h = int(fla[1])\n",
    "    fla_left  = (((int(rec_w) - fla_w) + int(offset_x)) / 2)  / int(rec_w)\n",
    "    fla_right = (((int(rec_w) - fla_w) - int(offset_x)) / 2)  / int(rec_w)\n",
    "    fla_up    = (((int(rec_h) - fla_h) + int(offset_y)) / 2)  / int(rec_h)\n",
    "    fla_down  = (((int(rec_h) - fla_h) - int(offset_y)) / 2)  / int(rec_h)\n",
    "\n",
    "def pix_to_mm(fla_w, fla_h):\n",
    "    fla_mm_w = fla_w * 0.00825\n",
    "    fla_mm_h = fla_h * 0.00825\n",
    "    return str(f'{fla_mm_w} x {fla_mm_h}mm')\n",
    "\n",
    "# ------- CREATE XML ----->>>\n",
    "# ------- This test is Mini 3.4K Open Gate RAW ------>>>\n",
    "# ------- 1.66:1 Ratio ------>>>\n",
    "setting   = cam_settngs['Alexa Mini Open Gate 3.4K ARRIRAW']\n",
    "sensor_w  = setting[0]\n",
    "sensor_h  = setting[1]\n",
    "rec_w     = setting[2]\n",
    "rec_h     = setting[3]\n",
    "fla_ratio = round(fla_w / fla_h)\n",
    "fla_w     = ''\n",
    "fla_h     = ''\n",
    "px_offset = 0\n",
    "squeeze   = 1\n",
    "soup = bs(\"<framelines></framelines>\", 'xml')    \n",
    "soup.framelines.append(soup.new_tag(\"camera\"))\n",
    "fl = soup.framelines\n",
    "fl.camera.append(soup.new_tag(\"type\"))\n",
    "fl.camera.append(soup.new_tag(\"sensor\"))\n",
    "fl.camera.append(soup.new_tag(\"aspect\"))\n",
    "fl.camera.append(soup.new_tag(\"hres\"))\n",
    "fl.camera.append(soup.new_tag(\"vres\"))\n",
    "fl.surround.append(soup.new_tag('opacity'))\n",
    "fl.surround.opacity.string = '0'\n",
    "\n",
    "#-----------FIX---------#\n",
    "\n",
    "# def commentClass(self, data):\n",
    "#     return TextNode(Comment(data), self.soup) \n",
    "\n",
    "def frameline_a_xml(fl_letter, fl_ratio, scale_prcnt):\n",
    "    fl.append(soup.new_tag(\"framelineName\", framelineRect=f\"Format_{fl_letter}\"))\n",
    "    fl.framelineName.string = f\"{fl_ratio}_scaling{scale_prcnt}\"\n",
    "    ctopline = \"<b><!--top line--></b>\"\n",
    "    \n",
    "    soup = BeautifulSoup('<p>HI there</p>', 'html.parser')\n",
    "    soup.p.replace_with(Comment(str(soup.p)))\n",
    "    print(soup)\n",
    "    \n",
    "    soup = BeautifulSoup(markup)\n",
    "    comment = soup.b.string\n",
    "    type(comment)\n",
    "# <class 'bs4.element.Comment'>\n",
    "#-----------FIX---------#\n",
    "\n",
    "\n",
    "\n",
    "\n",
    "def flines_clicked_create_format_a(self):\n",
    "    fl.append(soup.new_tag(\"framelineName\", framelineRect=\"Format_A\"))\n",
    "    update_flinename_format_a(self)\n",
    "    fl.append(soup.new_tag(\"line\", framelineRect=\"Format_A\"))\n",
    "    fl.line.append(soup.new_tag(\"left\"))\n",
    "    fl.line.append(soup.new_tag(\"right\"))\n",
    "    fl.line.append(soup.new_tag(\"top\"))\n",
    "    fl.line.append(soup.new_tag(\"bottom\"))\n",
    "    fl.line.append(soup.new_tag(\"border\"))\n",
    "    fl.line.append(soup.new_tag(\"width\"))\n",
    "    fl.line.append(soup.new_tag(\"color\"))\n",
    "    \n",
    "def get_l_r():\n",
    "    l_r = (((int(sensor_w) - int(fla_w)) / 2) + int(px_offset)) / int(sensor_w)\n",
    "    return l_r\n",
    "\n",
    "def create_fla():\n",
    "        pass\n",
    "def create_xml():\n",
    "    _home = os.environ['HOME']\n",
    "    today = datetime.now().strftime('_%m_%d_%y')\n",
    "    with open(os.path.join(_home,'Desktop',f'text_{today}.xml'), 'w+') as f:\n",
    "        f.write(soup.prettify())\n",
    "        f.close()"
   ]
  },
  {
   "cell_type": "code",
   "execution_count": 23,
   "metadata": {},
   "outputs": [
    {
     "data": {
      "text/plain": [
       "[0.03315972222222222,\n",
       " 0.03315972222222222,\n",
       " 0.027777777777777776,\n",
       " -0.027777777777777776]"
      ]
     },
     "execution_count": 23,
     "metadata": {},
     "output_type": "execute_result"
    }
   ],
   "source": [
    "    # --------- THIS WORKS FOR LEFT RIGHT UP DOWN --------\n",
    "    \n",
    "    rec_w = '2880'\n",
    "    rec_h = '1620'\n",
    "    fla_w = '2689'\n",
    "    fla_h = '1620'\n",
    "    offset_x = '0'\n",
    "    offset_y = '90'\n",
    "    def fla_offset(rec_w, rec_h, fla_w, fla_h, offset_x, offset_y):\n",
    "        fla_left  = (((int(rec_w) - int(fla_w)) + int(offset_x)) / 2)  / int(rec_w)\n",
    "        fla_right = (((int(rec_w) - int(fla_w)) - int(offset_x)) / 2)  / int(rec_w)\n",
    "        fla_up    = (((int(rec_h) - int(fla_h)) + int(offset_y)) / 2)  / int(rec_h)\n",
    "        fla_down  = (((int(rec_h) - int(fla_h)) - int(offset_y)) / 2)  / int(rec_h)\n",
    "        lrud = [fla_left, fla_right, fla_up, fla_down]\n",
    "        return lrud\n",
    "    fla_offset(rec_w, rec_h, fla_w, fla_h, offset_x, offset_y)"
   ]
  },
  {
   "cell_type": "code",
   "execution_count": 10,
   "metadata": {},
   "outputs": [
    {
     "data": {
      "text/plain": [
       "0.03316"
      ]
     },
     "execution_count": 10,
     "metadata": {},
     "output_type": "execute_result"
    }
   ],
   "source": [
    "round(fla_left, 5)"
   ]
  },
  {
   "cell_type": "code",
   "execution_count": 21,
   "metadata": {},
   "outputs": [
    {
     "data": {
      "text/plain": [
       "['2689', '1620']"
      ]
     },
     "execution_count": 21,
     "metadata": {},
     "output_type": "execute_result"
    }
   ],
   "source": [
    "# ---->>> Aspect Ratio WORKS! ---->>>\n",
    "\n",
    "def calc_fl_size(rec_w, rec_h, fla_ratio_index):\n",
    "    \n",
    "    if fla_ratio_index == \"Custom\":\n",
    "        pass\n",
    "    \n",
    "    rec_ratio  = int(rec_w) / int(rec_h)    \n",
    "    fla_split  = fla_ratio_index.split(':')\n",
    "    _fla_ratio = float(fla_split[0])\n",
    "    \n",
    "    if _fla_ratio < 1.78 or rec_ratio < 1.7777777777777777: # FIT HEIGHT\n",
    "        new_w = round(int(rec_h) * _fla_ratio)\n",
    "        fla_ratio = [str(new_w), str(rec_h)]\n",
    "        return fla_ratio\n",
    "        \n",
    "    elif _fla_ratio >= 1.78 or rec_ratio >= 1.7777777777777777: # FIT WIDTH\n",
    "        new_h = round(_fla_ratio / int(rec_w))\n",
    "        fla_ratio = [str(rec_w), str(new_h)]\n",
    "        return fla_ratio\n",
    "    \n",
    "    \n",
    "calc_fl_size('2880','1620','1.66:1')"
   ]
  },
  {
   "cell_type": "code",
   "execution_count": null,
   "metadata": {},
   "outputs": [],
   "source": []
  },
  {
   "cell_type": "code",
   "execution_count": null,
   "metadata": {},
   "outputs": [],
   "source": []
  }
 ],
 "metadata": {
  "kernelspec": {
   "display_name": "Python 3",
   "language": "python",
   "name": "python3"
  },
  "language_info": {
   "codemirror_mode": {
    "name": "ipython",
    "version": 3
   },
   "file_extension": ".py",
   "mimetype": "text/x-python",
   "name": "python",
   "nbconvert_exporter": "python",
   "pygments_lexer": "ipython3",
   "version": "3.7.3"
  }
 },
 "nbformat": 4,
 "nbformat_minor": 2
}
