{
 "cells": [
  {
   "cell_type": "code",
   "execution_count": 13,
   "metadata": {},
   "outputs": [
    {
     "ename": "AttributeError",
     "evalue": "'NoneType' object has no attribute 'append'",
     "output_type": "error",
     "traceback": [
      "\u001b[0;31m---------------------------------------------------------------------------\u001b[0m",
      "\u001b[0;31mAttributeError\u001b[0m                            Traceback (most recent call last)",
      "\u001b[0;32m<ipython-input-13-43917a323f5d>\u001b[0m in \u001b[0;36m<module>\u001b[0;34m\u001b[0m\n\u001b[1;32m     20\u001b[0m \u001b[0mfl\u001b[0m\u001b[0;34m.\u001b[0m\u001b[0mcamera\u001b[0m\u001b[0;34m.\u001b[0m\u001b[0mappend\u001b[0m\u001b[0;34m(\u001b[0m\u001b[0msoup\u001b[0m\u001b[0;34m.\u001b[0m\u001b[0mnew_tag\u001b[0m\u001b[0;34m(\u001b[0m\u001b[0;34m\"hres\"\u001b[0m\u001b[0;34m)\u001b[0m\u001b[0;34m)\u001b[0m\u001b[0;34m\u001b[0m\u001b[0;34m\u001b[0m\u001b[0m\n\u001b[1;32m     21\u001b[0m \u001b[0mfl\u001b[0m\u001b[0;34m.\u001b[0m\u001b[0mcamera\u001b[0m\u001b[0;34m.\u001b[0m\u001b[0mappend\u001b[0m\u001b[0;34m(\u001b[0m\u001b[0msoup\u001b[0m\u001b[0;34m.\u001b[0m\u001b[0mnew_tag\u001b[0m\u001b[0;34m(\u001b[0m\u001b[0;34m\"vres\"\u001b[0m\u001b[0;34m)\u001b[0m\u001b[0;34m)\u001b[0m\u001b[0;34m\u001b[0m\u001b[0;34m\u001b[0m\u001b[0m\n\u001b[0;32m---> 22\u001b[0;31m \u001b[0mfl\u001b[0m\u001b[0;34m.\u001b[0m\u001b[0msurround\u001b[0m\u001b[0;34m.\u001b[0m\u001b[0mappend\u001b[0m\u001b[0;34m(\u001b[0m\u001b[0msoup\u001b[0m\u001b[0;34m.\u001b[0m\u001b[0mnew_tag\u001b[0m\u001b[0;34m(\u001b[0m\u001b[0;34m'opacity'\u001b[0m\u001b[0;34m)\u001b[0m\u001b[0;34m)\u001b[0m\u001b[0;34m\u001b[0m\u001b[0;34m\u001b[0m\u001b[0m\n\u001b[0m\u001b[1;32m     23\u001b[0m \u001b[0mfl\u001b[0m\u001b[0;34m.\u001b[0m\u001b[0msurround\u001b[0m\u001b[0;34m.\u001b[0m\u001b[0mopacity\u001b[0m\u001b[0;34m.\u001b[0m\u001b[0mstring\u001b[0m \u001b[0;34m=\u001b[0m \u001b[0;34m'0'\u001b[0m\u001b[0;34m\u001b[0m\u001b[0;34m\u001b[0m\u001b[0m\n\u001b[1;32m     24\u001b[0m \u001b[0;34m\u001b[0m\u001b[0m\n",
      "\u001b[0;31mAttributeError\u001b[0m: 'NoneType' object has no attribute 'append'"
     ]
    }
   ],
   "source": [
    "from bs4 import BeautifulSoup as bs\n",
    "import os\n",
    "from camerasettings import cam_settngs\n",
    "\n",
    "\n",
    "class FlaXml:\n",
    "    def __init__(self, cam_sel, sensor_w, sensor_h, fla_sel,\n",
    "                 offset_l=0, offset_t=0,\n",
    "                 line_px=4, fla_color='user',\n",
    "                 fla_scaling='100%',\n",
    "                 center_marker=None, align_marker=None,\n",
    "                 fla_style='Full Box', fla_style_len=None,\n",
    "                 fla_shading=None,\n",
    "                )\n",
    "        self.cam_sel       = cam_sel\n",
    "        self.sensor_w      = sensor_w\n",
    "        self.sensor_h      = sensor_h\n",
    "        self.fla_sel       = fla_sel\n",
    "        self.line_px       = line_px\n",
    "        self.fla_color     = fla_w\n",
    "        self.fla_scaling   = fla_scaling\n",
    "        self.center_marker = center_marker\n",
    "        self.align_marker  = align_marker\n",
    "        self.fla_style     = fla_style\n",
    "        self.fla_style_len = fla_style_len\n",
    "        self.fla_shading   = fla_shading\n",
    "    \n",
    "    def  cam_xml(self, cam_sel):\n",
    "        self.cam_sel = \"ALEXA SXT\"\n",
    "        if self.cam_sel == \"ALEXA Classic\" or \"ALEXA XT\" or \"ALEXA SXT\" or\n",
    "    \n",
    "    def fla_dems(self):\n",
    "        pass\n",
    "    \n",
    "    \n",
    "    \n",
    "soup = bs(\"<framelines></framelines>\", 'xml')    \n",
    "soup.framelines.append(soup.new_tag(\"camera\"))\n",
    "fl = soup.framelines\n",
    "fl.camera.append(soup.new_tag(\"type\"))\n",
    "fl.camera.append(soup.new_tag(\"sensor\"))\n",
    "fl.camera.append(soup.new_tag(\"aspect\"))\n",
    "fl.camera.append(soup.new_tag(\"hres\"))\n",
    "fl.camera.append(soup.new_tag(\"vres\"))\n",
    "fl.surround.append(soup.new_tag('opacity'))\n",
    "fl.surround.opacity.string = '0'\n",
    "\n",
    "def get_l_r():\n",
    "    l_r = (((int(sensor_w) - int(fla_w)) / 2) + int(px_offset)) / int(sensor_w)\n",
    "    return l_r\n",
    "def alexa_mini_xml_test():\n",
    "    fl.camera.type.string = mini_test[0]\n",
    "    fl.camera.sensor.string = \"3.4K\"\n",
    "    if mini_test[0] == \"ALEXA Mini\":\n",
    "        fl.camera.aspect.string = '1.55'\n",
    "        fl.camera.hres.string = mini_test[-2]\n",
    "        fl.camera.vres.string = mini_test[-1]\n",
    "        print('Mini worked!')\n",
    "    else:\n",
    "        print('Mini did not work')\n",
    "def create_fla():\n",
    "        pass\n",
    "def create_xml():\n",
    "    _home = os.environ['HOME']\n",
    "    today = datetime.now().strftime('_%m_%d_%y')\n",
    "    with open(os.path.join(_home,'Desktop',f'text_{today}.xml'), 'w+') as f:\n",
    "        f.write(soup.prettify())\n",
    "        f.close()"
   ]
  },
  {
   "cell_type": "code",
   "execution_count": 11,
   "metadata": {},
   "outputs": [
    {
     "name": "stdout",
     "output_type": "stream",
     "text": [
      "Mini worked!\n"
     ]
    },
    {
     "data": {
      "text/plain": [
       "(None, None)"
      ]
     },
     "execution_count": 11,
     "metadata": {},
     "output_type": "execute_result"
    }
   ],
   "source": [
    "alexa_mini_xml_test(), create_xml()"
   ]
  },
  {
   "cell_type": "code",
   "execution_count": 1,
   "metadata": {},
   "outputs": [
    {
     "name": "stdout",
     "output_type": "stream",
     "text": [
      "Requirement already satisfied: jupyterthemes in /Users/angel-of-death/anaconda3/lib/python3.7/site-packages (0.20.0)\n",
      "Requirement already satisfied: matplotlib>=1.4.3 in /Users/angel-of-death/anaconda3/lib/python3.7/site-packages (from jupyterthemes) (3.1.0)\n",
      "Requirement already satisfied: jupyter-core in /Users/angel-of-death/anaconda3/lib/python3.7/site-packages (from jupyterthemes) (4.5.0)\n",
      "Requirement already satisfied: lesscpy>=0.11.2 in /Users/angel-of-death/anaconda3/lib/python3.7/site-packages (from jupyterthemes) (0.13.0)\n",
      "Requirement already satisfied: ipython>=5.4.1 in /Users/angel-of-death/anaconda3/lib/python3.7/site-packages (from jupyterthemes) (7.7.0)\n",
      "Requirement already satisfied: notebook>=5.6.0 in /Users/angel-of-death/anaconda3/lib/python3.7/site-packages (from jupyterthemes) (6.0.0)\n",
      "Requirement already satisfied: cycler>=0.10 in /Users/angel-of-death/anaconda3/lib/python3.7/site-packages (from matplotlib>=1.4.3->jupyterthemes) (0.10.0)\n",
      "Requirement already satisfied: kiwisolver>=1.0.1 in /Users/angel-of-death/anaconda3/lib/python3.7/site-packages (from matplotlib>=1.4.3->jupyterthemes) (1.1.0)\n",
      "Requirement already satisfied: pyparsing!=2.0.4,!=2.1.2,!=2.1.6,>=2.0.1 in /Users/angel-of-death/anaconda3/lib/python3.7/site-packages (from matplotlib>=1.4.3->jupyterthemes) (2.4.0)\n",
      "Requirement already satisfied: python-dateutil>=2.1 in /Users/angel-of-death/.local/lib/python3.7/site-packages (from matplotlib>=1.4.3->jupyterthemes) (2.8.1)\n",
      "Requirement already satisfied: numpy>=1.11 in /Users/angel-of-death/anaconda3/lib/python3.7/site-packages (from matplotlib>=1.4.3->jupyterthemes) (1.16.4)\n",
      "Requirement already satisfied: traitlets in /Users/angel-of-death/anaconda3/lib/python3.7/site-packages (from jupyter-core->jupyterthemes) (4.3.2)\n",
      "Requirement already satisfied: ply in /Users/angel-of-death/anaconda3/lib/python3.7/site-packages (from lesscpy>=0.11.2->jupyterthemes) (3.11)\n",
      "Requirement already satisfied: six in /Users/angel-of-death/.local/lib/python3.7/site-packages (from lesscpy>=0.11.2->jupyterthemes) (1.13.0)\n",
      "Requirement already satisfied: appnope; sys_platform == \"darwin\" in /Users/angel-of-death/anaconda3/lib/python3.7/site-packages (from ipython>=5.4.1->jupyterthemes) (0.1.0)\n",
      "Requirement already satisfied: pickleshare in /Users/angel-of-death/anaconda3/lib/python3.7/site-packages (from ipython>=5.4.1->jupyterthemes) (0.7.5)\n",
      "Requirement already satisfied: jedi>=0.10 in /Users/angel-of-death/anaconda3/lib/python3.7/site-packages (from ipython>=5.4.1->jupyterthemes) (0.13.3)\n",
      "Requirement already satisfied: setuptools>=18.5 in /Users/angel-of-death/.local/lib/python3.7/site-packages (from ipython>=5.4.1->jupyterthemes) (41.4.0)\n",
      "Requirement already satisfied: pexpect; sys_platform != \"win32\" in /Users/angel-of-death/anaconda3/lib/python3.7/site-packages (from ipython>=5.4.1->jupyterthemes) (4.7.0)\n",
      "Requirement already satisfied: backcall in /Users/angel-of-death/anaconda3/lib/python3.7/site-packages (from ipython>=5.4.1->jupyterthemes) (0.1.0)\n",
      "Requirement already satisfied: prompt-toolkit<2.1.0,>=2.0.0 in /Users/angel-of-death/anaconda3/lib/python3.7/site-packages (from ipython>=5.4.1->jupyterthemes) (2.0.9)\n",
      "Requirement already satisfied: decorator in /Users/angel-of-death/anaconda3/lib/python3.7/site-packages (from ipython>=5.4.1->jupyterthemes) (4.4.0)\n",
      "Requirement already satisfied: pygments in /Users/angel-of-death/anaconda3/lib/python3.7/site-packages (from ipython>=5.4.1->jupyterthemes) (2.4.2)\n",
      "Requirement already satisfied: nbformat in /Users/angel-of-death/anaconda3/lib/python3.7/site-packages (from notebook>=5.6.0->jupyterthemes) (4.4.0)\n",
      "Requirement already satisfied: jupyter-client>=5.3.1 in /Users/angel-of-death/anaconda3/lib/python3.7/site-packages (from notebook>=5.6.0->jupyterthemes) (5.3.1)\n",
      "Requirement already satisfied: terminado>=0.8.1 in /Users/angel-of-death/anaconda3/lib/python3.7/site-packages (from notebook>=5.6.0->jupyterthemes) (0.8.2)\n",
      "Requirement already satisfied: nbconvert in /Users/angel-of-death/anaconda3/lib/python3.7/site-packages (from notebook>=5.6.0->jupyterthemes) (5.5.0)\n",
      "Requirement already satisfied: prometheus-client in /Users/angel-of-death/anaconda3/lib/python3.7/site-packages (from notebook>=5.6.0->jupyterthemes) (0.7.1)\n",
      "Requirement already satisfied: Send2Trash in /Users/angel-of-death/anaconda3/lib/python3.7/site-packages (from notebook>=5.6.0->jupyterthemes) (1.5.0)\n",
      "Requirement already satisfied: tornado>=5.0 in /Users/angel-of-death/anaconda3/lib/python3.7/site-packages (from notebook>=5.6.0->jupyterthemes) (6.0.3)\n",
      "Requirement already satisfied: ipykernel in /Users/angel-of-death/anaconda3/lib/python3.7/site-packages (from notebook>=5.6.0->jupyterthemes) (5.1.1)\n",
      "Requirement already satisfied: jinja2 in /Users/angel-of-death/.local/lib/python3.7/site-packages (from notebook>=5.6.0->jupyterthemes) (2.10.3)\n",
      "Requirement already satisfied: ipython-genutils in /Users/angel-of-death/anaconda3/lib/python3.7/site-packages (from notebook>=5.6.0->jupyterthemes) (0.2.0)\n",
      "Requirement already satisfied: pyzmq>=17 in /Users/angel-of-death/anaconda3/lib/python3.7/site-packages (from notebook>=5.6.0->jupyterthemes) (18.0.0)\n",
      "Requirement already satisfied: parso>=0.3.0 in /Users/angel-of-death/anaconda3/lib/python3.7/site-packages (from jedi>=0.10->ipython>=5.4.1->jupyterthemes) (0.5.0)\n",
      "Requirement already satisfied: ptyprocess>=0.5 in /Users/angel-of-death/anaconda3/lib/python3.7/site-packages (from pexpect; sys_platform != \"win32\"->ipython>=5.4.1->jupyterthemes) (0.6.0)\n",
      "Requirement already satisfied: wcwidth in /Users/angel-of-death/anaconda3/lib/python3.7/site-packages (from prompt-toolkit<2.1.0,>=2.0.0->ipython>=5.4.1->jupyterthemes) (0.1.7)\n",
      "Requirement already satisfied: jsonschema!=2.5.0,>=2.4 in /Users/angel-of-death/anaconda3/lib/python3.7/site-packages (from nbformat->notebook>=5.6.0->jupyterthemes) (3.0.1)\n",
      "Requirement already satisfied: pandocfilters>=1.4.1 in /Users/angel-of-death/anaconda3/lib/python3.7/site-packages (from nbconvert->notebook>=5.6.0->jupyterthemes) (1.4.2)\n",
      "Requirement already satisfied: entrypoints>=0.2.2 in /Users/angel-of-death/anaconda3/lib/python3.7/site-packages (from nbconvert->notebook>=5.6.0->jupyterthemes) (0.3)\n",
      "Requirement already satisfied: testpath in /Users/angel-of-death/anaconda3/lib/python3.7/site-packages (from nbconvert->notebook>=5.6.0->jupyterthemes) (0.4.2)\n",
      "Requirement already satisfied: bleach in /Users/angel-of-death/anaconda3/lib/python3.7/site-packages (from nbconvert->notebook>=5.6.0->jupyterthemes) (3.1.0)\n",
      "Requirement already satisfied: defusedxml in /Users/angel-of-death/anaconda3/lib/python3.7/site-packages (from nbconvert->notebook>=5.6.0->jupyterthemes) (0.6.0)\n",
      "Requirement already satisfied: mistune>=0.8.1 in /Users/angel-of-death/anaconda3/lib/python3.7/site-packages (from nbconvert->notebook>=5.6.0->jupyterthemes) (0.8.4)\n",
      "Requirement already satisfied: MarkupSafe>=0.23 in /Users/angel-of-death/.local/lib/python3.7/site-packages (from jinja2->notebook>=5.6.0->jupyterthemes) (1.1.1)\n",
      "Requirement already satisfied: attrs>=17.4.0 in /Users/angel-of-death/anaconda3/lib/python3.7/site-packages (from jsonschema!=2.5.0,>=2.4->nbformat->notebook>=5.6.0->jupyterthemes) (19.1.0)\n",
      "Requirement already satisfied: pyrsistent>=0.14.0 in /Users/angel-of-death/anaconda3/lib/python3.7/site-packages (from jsonschema!=2.5.0,>=2.4->nbformat->notebook>=5.6.0->jupyterthemes) (0.14.11)\n",
      "Requirement already satisfied: webencodings in /Users/angel-of-death/anaconda3/lib/python3.7/site-packages (from bleach->nbconvert->notebook>=5.6.0->jupyterthemes) (0.5.1)\n"
     ]
    }
   ],
   "source": [
    "! pip install jupyterthemes"
   ]
  },
  {
   "cell_type": "code",
   "execution_count": null,
   "metadata": {},
   "outputs": [],
   "source": []
  }
 ],
 "metadata": {
  "kernelspec": {
   "display_name": "Python 3",
   "language": "python",
   "name": "python3"
  },
  "language_info": {
   "codemirror_mode": {
    "name": "ipython",
    "version": 3
   },
   "file_extension": ".py",
   "mimetype": "text/x-python",
   "name": "python",
   "nbconvert_exporter": "python",
   "pygments_lexer": "ipython3",
   "version": "3.7.3"
  }
 },
 "nbformat": 4,
 "nbformat_minor": 2
}
