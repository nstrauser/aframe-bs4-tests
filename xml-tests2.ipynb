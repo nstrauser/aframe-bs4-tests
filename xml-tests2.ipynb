{
 "cells": [
  {
   "cell_type": "code",
   "execution_count": 17,
   "metadata": {},
   "outputs": [],
   "source": [
    "from bs4 import BeautifulSoup as bs\n",
    "from bs4 import Comment\n",
    "cam_sel = 'ALEXA SXT'\n",
    "cam_sensor = '3K'\n",
    "fla_ratio = '1.78:1'\n",
    "sensor_w = '3200'\n",
    "sensor_h = '1800'\n",
    "fla_scaling = '100%'\n",
    "fla_left = 0.12500\n",
    "fla_right = 0.12500\n",
    "fla_top = 0.00000\n",
    "fla_width = 4\n",
    "fla_color = 'user'\n",
    "\n",
    "\n",
    "soup = bs(\"<framelines></framelines>\", 'xml')    \n",
    "soup.framelines.append(soup.new_tag(\"camera\"))\n",
    "fl = soup.framelines\n",
    "fl.camera.append(soup.new_tag(\"type\"))\n",
    "fl.camera.append(soup.new_tag(\"sensor\"))\n",
    "fl.camera.append(soup.new_tag(\"aspect\"))\n",
    "fl.camera.append(soup.new_tag(\"hres\"))\n",
    "fl.camera.append(soup.new_tag(\"vres\"))\n",
    "# ------- add tags --------\n",
    "fl.camera.type.string   = cam_sel\n",
    "fl.camera.sensor.string = cam_sensor\n",
    "fl.camera.aspect.string = fla_ratio\n",
    "fl.camera.hres.string   = sensor_w\n",
    "fl.camera.vres.string   = sensor_h\n",
    "    \n",
    "def xml_fla(fla_ratio, fla_scaling, \n",
    "           fla_left, fla_right, fla_top, \n",
    "           fla_width, fla_color):\n",
    "    fl.append(soup.new_tag('framelineName', FramelineRect='Format_A'))\n",
    "    fl.framelineName.string = f'{fla_ratio}_scaling{fla_scaling}'\n",
    "    no_sh_sel = Comment('<!--no shading selected-->')\n",
    "    fl.camera.insert(0, no_sh_sel)\n",
    "    fl.append(soup.new_tag('line', framelineRect='Format_A'))\n",
    "    fl.framelineRect.append(soup.new_tag('left'))\n",
    "    fl.framelineRect.left.string = str(fla_left)\n",
    "    fl.framelineRect.append(soup.new_tag('right'))\n",
    "    fl.framelineRect.left.string = str(fla_right)\n",
    "    fl.framelineRect.append(soup.new_tag('top'))\n",
    "    fl.framelineRect.left.string = str(fla_top)\n",
    "    fl.framelineRect.append(soup.new_tag('width'))\n",
    "    fl.framelineRect.left.string = str(fla_width)\n",
    "    fl.framelineRect.append(soup.new_tag('color'))\n",
    "    fl.framelineRect.left.string = fla_color\n",
    "    # ---- Comments ----\n",
    "    formt_a_full = Comment('<!--Format A full-->')\n",
    "    top_line = Comment('<!--top line-->')\n",
    "    bottom_line = Comment('<!--bottom line-->')\n",
    "    left_line = Comment('<!--left line-->')\n",
    "    right_line = Comment('<!--right line-->')\n",
    "    # ------ INSERT COMMENTS ------\n",
    "    fl.framelineRect.insert(-1, formt_a_full)\n",
    "    fl.framelineRect.insert(-1, top_line)\n",
    "    with open('test.xml', 'w+') as f:\n",
    "        f.write(soup.prettify())\n",
    "        f.close()"
   ]
  },
  {
   "cell_type": "code",
   "execution_count": 18,
   "metadata": {},
   "outputs": [
    {
     "ename": "AttributeError",
     "evalue": "'NoneType' object has no attribute 'append'",
     "output_type": "error",
     "traceback": [
      "\u001b[0;31m---------------------------------------------------------------------------\u001b[0m",
      "\u001b[0;31mAttributeError\u001b[0m                            Traceback (most recent call last)",
      "\u001b[0;32m<ipython-input-18-d153dd19d2b5>\u001b[0m in \u001b[0;36m<module>\u001b[0;34m\u001b[0m\n\u001b[0;32m----> 1\u001b[0;31m \u001b[0mxml_fla\u001b[0m\u001b[0;34m(\u001b[0m\u001b[0mfla_ratio\u001b[0m\u001b[0;34m,\u001b[0m \u001b[0mfla_scaling\u001b[0m\u001b[0;34m,\u001b[0m \u001b[0mfla_left\u001b[0m\u001b[0;34m,\u001b[0m \u001b[0mfla_right\u001b[0m\u001b[0;34m,\u001b[0m \u001b[0mfla_top\u001b[0m\u001b[0;34m,\u001b[0m \u001b[0mfla_width\u001b[0m\u001b[0;34m,\u001b[0m \u001b[0mfla_color\u001b[0m\u001b[0;34m)\u001b[0m\u001b[0;34m\u001b[0m\u001b[0;34m\u001b[0m\u001b[0m\n\u001b[0m",
      "\u001b[0;32m<ipython-input-17-343ff82fa49b>\u001b[0m in \u001b[0;36mxml_fla\u001b[0;34m(fla_ratio, fla_scaling, fla_left, fla_right, fla_top, fla_width, fla_color)\u001b[0m\n\u001b[1;32m     37\u001b[0m     \u001b[0mfl\u001b[0m\u001b[0;34m.\u001b[0m\u001b[0mcamera\u001b[0m\u001b[0;34m.\u001b[0m\u001b[0minsert\u001b[0m\u001b[0;34m(\u001b[0m\u001b[0;36m0\u001b[0m\u001b[0;34m,\u001b[0m \u001b[0mno_sh_sel\u001b[0m\u001b[0;34m)\u001b[0m\u001b[0;34m\u001b[0m\u001b[0;34m\u001b[0m\u001b[0m\n\u001b[1;32m     38\u001b[0m     \u001b[0mfl\u001b[0m\u001b[0;34m.\u001b[0m\u001b[0mappend\u001b[0m\u001b[0;34m(\u001b[0m\u001b[0msoup\u001b[0m\u001b[0;34m.\u001b[0m\u001b[0mnew_tag\u001b[0m\u001b[0;34m(\u001b[0m\u001b[0;34m'line'\u001b[0m\u001b[0;34m,\u001b[0m \u001b[0mframelineRect\u001b[0m\u001b[0;34m=\u001b[0m\u001b[0;34m'Format_A'\u001b[0m\u001b[0;34m)\u001b[0m\u001b[0;34m)\u001b[0m\u001b[0;34m\u001b[0m\u001b[0;34m\u001b[0m\u001b[0m\n\u001b[0;32m---> 39\u001b[0;31m     \u001b[0mfl\u001b[0m\u001b[0;34m.\u001b[0m\u001b[0mframelineRect\u001b[0m\u001b[0;34m.\u001b[0m\u001b[0mappend\u001b[0m\u001b[0;34m(\u001b[0m\u001b[0msoup\u001b[0m\u001b[0;34m.\u001b[0m\u001b[0mnew_tag\u001b[0m\u001b[0;34m(\u001b[0m\u001b[0;34m'left'\u001b[0m\u001b[0;34m)\u001b[0m\u001b[0;34m)\u001b[0m\u001b[0;34m\u001b[0m\u001b[0;34m\u001b[0m\u001b[0m\n\u001b[0m\u001b[1;32m     40\u001b[0m     \u001b[0mfl\u001b[0m\u001b[0;34m.\u001b[0m\u001b[0mframelineRect\u001b[0m\u001b[0;34m.\u001b[0m\u001b[0mleft\u001b[0m\u001b[0;34m.\u001b[0m\u001b[0mstring\u001b[0m \u001b[0;34m=\u001b[0m \u001b[0mstr\u001b[0m\u001b[0;34m(\u001b[0m\u001b[0mfla_left\u001b[0m\u001b[0;34m)\u001b[0m\u001b[0;34m\u001b[0m\u001b[0;34m\u001b[0m\u001b[0m\n\u001b[1;32m     41\u001b[0m     \u001b[0mfl\u001b[0m\u001b[0;34m.\u001b[0m\u001b[0mframelineRect\u001b[0m\u001b[0;34m.\u001b[0m\u001b[0mappend\u001b[0m\u001b[0;34m(\u001b[0m\u001b[0msoup\u001b[0m\u001b[0;34m.\u001b[0m\u001b[0mnew_tag\u001b[0m\u001b[0;34m(\u001b[0m\u001b[0;34m'right'\u001b[0m\u001b[0;34m)\u001b[0m\u001b[0;34m)\u001b[0m\u001b[0;34m\u001b[0m\u001b[0;34m\u001b[0m\u001b[0m\n",
      "\u001b[0;31mAttributeError\u001b[0m: 'NoneType' object has no attribute 'append'"
     ]
    }
   ],
   "source": [
    "xml_fla(fla_ratio, fla_scaling, fla_left, fla_right, fla_top, fla_width, fla_color)"
   ]
  },
  {
   "cell_type": "code",
   "execution_count": null,
   "metadata": {},
   "outputs": [],
   "source": []
  }
 ],
 "metadata": {
  "kernelspec": {
   "display_name": "Python 3",
   "language": "python",
   "name": "python3"
  },
  "language_info": {
   "codemirror_mode": {
    "name": "ipython",
    "version": 3
   },
   "file_extension": ".py",
   "mimetype": "text/x-python",
   "name": "python",
   "nbconvert_exporter": "python",
   "pygments_lexer": "ipython3",
   "version": "3.7.3"
  }
 },
 "nbformat": 4,
 "nbformat_minor": 2
}
